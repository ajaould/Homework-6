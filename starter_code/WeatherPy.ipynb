{
 "cells": [
  {
   "cell_type": "markdown",
   "metadata": {},
   "source": [
    "# WeatherPy\n",
    "----\n",
    "\n",
    "#### Note\n",
    "* Instructions have been included for each segment. You do not have to follow them exactly, but they are included to help you think through the steps."
   ]
  },
  {
   "cell_type": "code",
   "execution_count": 123,
   "metadata": {
    "scrolled": true
   },
   "outputs": [],
   "source": [
    "# Dependencies and Setup\n",
    "import matplotlib.pyplot as plt\n",
    "import pandas as pd\n",
    "import numpy as np\n",
    "import requests\n",
    "import time\n",
    "from scipy.stats import linregress\n",
    "import json\n",
    "from scipy.stats import pearsonr\n",
    "\n",
    "# Import API key\n",
    "from api_keys import weather_api_key\n",
    "\n",
    "# Incorporated citipy to determine city based on latitude and longitude\n",
    "from citipy import citipy\n",
    "\n",
    "# Output File (CSV)\n",
    "output_data_file = \"output_data/cities.csv\"\n",
    "\n",
    "# Range of latitudes and longitudes\n",
    "lat_range = (-90, 90)\n",
    "lng_range = (-180, 180)"
   ]
  },
  {
   "cell_type": "markdown",
   "metadata": {},
   "source": [
    "## Generate Cities List"
   ]
  },
  {
   "cell_type": "code",
   "execution_count": 99,
   "metadata": {},
   "outputs": [
    {
     "data": {
      "text/plain": [
       "646"
      ]
     },
     "execution_count": 99,
     "metadata": {},
     "output_type": "execute_result"
    }
   ],
   "source": [
    "# List for holding lat_lngs and cities\n",
    "lat_lngs = []\n",
    "cities = []\n",
    "\n",
    "# Create a set of random lat and lng combinations\n",
    "lats = np.random.uniform(lat_range[0], lat_range[1], size=1500)\n",
    "lngs = np.random.uniform(lng_range[0], lng_range[1], size=1500)\n",
    "lat_lngs = zip(lats, lngs)\n",
    "\n",
    "# Identify nearest city for each lat, lng combination\n",
    "for lat_lng in lat_lngs:\n",
    "    city = citipy.nearest_city(lat_lng[0], lat_lng[1]).city_name\n",
    "    \n",
    "    # If the city is unique, then add it to a our cities list\n",
    "    if city not in cities:\n",
    "        cities.append(city)\n",
    "\n",
    "# Print the city count to confirm sufficient count\n",
    "len(cities)\n",
    "\n"
   ]
  },
  {
   "cell_type": "markdown",
   "metadata": {},
   "source": [
    "### Perform API Calls\n",
    "* Perform a weather check on each city using a series of successive API calls.\n",
    "* Include a print log of each city as it'sbeing processed (with the city number and city name).\n"
   ]
  },
  {
   "cell_type": "code",
   "execution_count": 100,
   "metadata": {},
   "outputs": [
    {
     "name": "stdout",
     "output_type": "stream",
     "text": [
      "we have found teahupoo\n",
      "we have found saint-jean-port-joli\n",
      "Oopsie\n",
      "we have found busselton\n",
      "Oopsie\n",
      "we have found archidona\n",
      "we have found harwich\n",
      "we have found punta arenas\n",
      "we have found souillac\n",
      "we have found morant bay\n",
      "we have found lebu\n",
      "we have found avarua\n",
      "we have found omboue\n",
      "we have found gazanjyk\n",
      "Oopsie\n",
      "we have found ushuaia\n",
      "we have found tura\n",
      "we have found turukhansk\n",
      "we have found albany\n",
      "we have found sijunjung\n",
      "we have found noumea\n",
      "we have found pevek\n",
      "we have found rikitea\n",
      "we have found ribeira grande\n",
      "we have found chokurdakh\n",
      "we have found hermanus\n",
      "we have found vaini\n",
      "we have found windhoek\n",
      "we have found aklavik\n",
      "we have found klyuchi\n",
      "we have found hasaki\n",
      "we have found mayumba\n",
      "we have found kingaroy\n",
      "we have found codrington\n",
      "we have found vilyuysk\n",
      "we have found aldama\n",
      "we have found maniitsoq\n",
      "we have found baherden\n",
      "we have found norman wells\n",
      "we have found lompoc\n",
      "we have found arandas\n",
      "we have found arraial do cabo\n",
      "Oopsie\n",
      "we have found kharp\n",
      "Oopsie\n",
      "we have found ambon\n",
      "we have found bluff\n",
      "we have found kabalo\n",
      "we have found butaritari\n",
      "Oopsie\n",
      "we have found amberley\n",
      "we have found monte patria\n",
      "we have found mataura\n",
      "we have found najran\n",
      "we have found chara\n",
      "we have found grand-lahou\n",
      "we have found brigantine\n",
      "we have found qaanaaq\n",
      "we have found hilo\n",
      "we have found chuy\n",
      "we have found jalu\n",
      "we have found east london\n",
      "we have found ponta do sol\n",
      "we have found bengkulu\n",
      "we have found baghramyan\n",
      "we have found hobart\n",
      "we have found katobu\n",
      "we have found nanortalik\n",
      "Oopsie\n",
      "we have found vao\n",
      "we have found emod\n",
      "we have found alyangula\n",
      "Oopsie\n",
      "we have found margate\n",
      "we have found lavrentiya\n",
      "we have found waipawa\n",
      "we have found maroon town\n",
      "we have found ampanihy\n",
      "we have found mitsamiouli\n",
      "we have found inirida\n",
      "we have found blagoyevo\n",
      "we have found saint george\n",
      "we have found hengshui\n",
      "we have found inhambane\n",
      "we have found cape town\n",
      "we have found cabadiangan\n",
      "we have found wucheng\n",
      "we have found bethel\n",
      "we have found salumbar\n",
      "we have found sambava\n",
      "we have found bethanien\n",
      "we have found balaghat\n",
      "we have found geraldton\n",
      "Oopsie\n",
      "we have found bredasdorp\n",
      "we have found carnarvon\n",
      "Oopsie\n",
      "we have found atuona\n",
      "we have found riyadh\n",
      "we have found pringsewu\n",
      "we have found rio gallegos\n",
      "Oopsie\n",
      "we have found talnakh\n",
      "we have found bandarbeyla\n",
      "we have found hailar\n",
      "we have found tiarei\n",
      "we have found lagos\n",
      "we have found faanui\n",
      "we have found tuatapere\n",
      "we have found broome\n",
      "we have found shache\n",
      "we have found beyneu\n",
      "we have found hami\n",
      "we have found gaya\n",
      "we have found pangani\n",
      "we have found kapit\n",
      "we have found new norfolk\n",
      "we have found georgetown\n",
      "we have found saskylakh\n",
      "we have found mar del plata\n",
      "we have found te anau\n",
      "we have found kruisfontein\n",
      "we have found jamestown\n",
      "we have found qaqortoq\n",
      "we have found ilulissat\n",
      "we have found lasa\n",
      "we have found talcahuano\n",
      "we have found miles city\n",
      "we have found miranda\n",
      "we have found vera cruz\n",
      "we have found kalmunai\n",
      "we have found cidreira\n",
      "we have found iqaluit\n",
      "we have found ucluelet\n",
      "we have found luderitz\n",
      "Oopsie\n",
      "we have found upernavik\n",
      "we have found guerrero negro\n",
      "we have found komsomolskiy\n",
      "we have found camacha\n",
      "we have found khatanga\n",
      "we have found bonthe\n",
      "we have found nahrin\n",
      "we have found mahajanga\n",
      "we have found tuktoyaktuk\n",
      "we have found silver city\n",
      "we have found barrow\n",
      "we have found mount gambier\n",
      "we have found tasiilaq\n",
      "we have found garowe\n",
      "we have found rybinsk\n",
      "we have found bambanglipuro\n",
      "we have found tailai\n",
      "we have found pisco\n",
      "we have found coquimbo\n",
      "we have found mount darwin\n",
      "we have found yar-sale\n",
      "Oopsie\n",
      "we have found juneau\n",
      "we have found bronte\n",
      "we have found puerto rondon\n",
      "we have found paeroa\n",
      "we have found mayo\n",
      "we have found dingle\n",
      "we have found fleet\n",
      "we have found puerto ayora\n",
      "we have found port lavaca\n",
      "we have found san antonio\n",
      "we have found tiksi\n",
      "we have found port alfred\n",
      "we have found saint-philippe\n",
      "we have found quatre cocos\n",
      "we have found kasongo\n",
      "we have found tatawin\n",
      "we have found kampot\n",
      "we have found dillon\n",
      "we have found dustlik\n",
      "we have found kropotkin\n",
      "we have found nikolskoye\n",
      "we have found bubaque\n",
      "Oopsie\n",
      "we have found lodwar\n",
      "we have found tanout\n",
      "we have found cabo san lucas\n",
      "we have found henties bay\n",
      "we have found surgut\n",
      "we have found gilgit\n",
      "we have found sao borja\n",
      "we have found araouane\n",
      "we have found pangody\n",
      "we have found maarianhamina\n",
      "we have found havre-saint-pierre\n",
      "we have found castro\n",
      "we have found udayagiri\n",
      "we have found kahului\n",
      "we have found yulara\n",
      "we have found yellowknife\n",
      "we have found gouyave\n",
      "we have found vardo\n",
      "we have found buala\n",
      "we have found esperance\n",
      "we have found general roca\n",
      "we have found sitka\n",
      "we have found haines junction\n",
      "we have found adrar\n",
      "we have found provideniya\n",
      "we have found apatou\n",
      "we have found vestmannaeyjar\n",
      "Oopsie\n",
      "we have found port elizabeth\n",
      "we have found harqalah\n",
      "we have found colac\n",
      "Oopsie\n",
      "we have found tromso\n",
      "we have found lorengau\n",
      "we have found demba\n",
      "we have found sompeta\n",
      "we have found san pedro\n",
      "we have found kijang\n",
      "Oopsie\n",
      "we have found nabire\n",
      "we have found macroom\n",
      "we have found sioux lookout\n",
      "we have found vilhena\n",
      "we have found yatou\n",
      "we have found yibin\n",
      "we have found kapaa\n",
      "we have found port-cartier\n",
      "we have found nouadhibou\n",
      "we have found ostrovnoy\n",
      "we have found bayir\n",
      "we have found dikson\n",
      "we have found salalah\n",
      "we have found norsup\n",
      "we have found lang son\n",
      "we have found nantucket\n",
      "we have found athabasca\n",
      "we have found beringovskiy\n",
      "Oopsie\n",
      "we have found itapetinga\n",
      "we have found bilma\n",
      "we have found alta floresta\n",
      "we have found huilong\n",
      "we have found yerbogachen\n",
      "we have found kodiak\n",
      "we have found launceston\n",
      "we have found kyshtovka\n",
      "we have found san diego de los banos\n",
      "we have found karasburg\n",
      "we have found buritis\n",
      "we have found leningradskiy\n",
      "we have found nsanje\n",
      "we have found vanimo\n",
      "we have found thompson\n",
      "we have found yuancheng\n",
      "we have found wenling\n",
      "we have found sorsk\n",
      "we have found mahebourg\n",
      "we have found severo-kurilsk\n",
      "we have found bady bassitt\n",
      "we have found luanda\n",
      "we have found narsaq\n",
      "we have found rumonge\n",
      "we have found airai\n",
      "we have found ancud\n",
      "we have found acari\n",
      "we have found zhigansk\n",
      "we have found muros\n",
      "we have found buchanan\n",
      "we have found tiznit\n",
      "we have found innisfail\n",
      "we have found port moresby\n",
      "we have found katol\n",
      "we have found sunnyside\n",
      "we have found hualmay\n",
      "we have found segezha\n",
      "we have found berlevag\n",
      "we have found victoria\n",
      "we have found faya\n",
      "we have found vega de alatorre\n",
      "we have found impfondo\n",
      "we have found batemans bay\n",
      "we have found nioro\n",
      "we have found cockburn town\n",
      "we have found north bend\n",
      "we have found muskogee\n",
      "we have found dongsheng\n",
      "we have found sao filipe\n",
      "we have found touros\n",
      "we have found paita\n",
      "we have found urumqi\n",
      "we have found honiara\n",
      "we have found gamba\n",
      "we have found coahuayana\n",
      "we have found dudinka\n",
      "we have found isangel\n",
      "we have found san quintin\n",
      "we have found katsuura\n",
      "we have found elat\n",
      "we have found stratonion\n",
      "we have found torbay\n",
      "we have found daragutan\n",
      "we have found hambantota\n",
      "we have found hithadhoo\n",
      "we have found kalabo\n",
      "we have found westport\n",
      "we have found ailigandi\n",
      "we have found aleysk\n",
      "we have found homer\n",
      "we have found saldanha\n",
      "we have found chapais\n",
      "Oopsie\n",
      "we have found marystown\n",
      "Oopsie\n",
      "Oopsie\n",
      "we have found meulaboh\n",
      "we have found calmar\n",
      "we have found paamiut\n",
      "Oopsie\n",
      "we have found ugoofaaru\n",
      "we have found tilichiki\n",
      "we have found holme\n",
      "we have found kawalu\n",
      "we have found haimen\n",
      "we have found parabel\n",
      "we have found mweka\n",
      "we have found katangli\n",
      "we have found springbok\n",
      "Oopsie\n",
      "we have found peoria\n",
      "we have found zaragoza\n",
      "we have found mathathane\n",
      "we have found bouna\n",
      "Oopsie\n",
      "we have found ranot\n",
      "we have found deputatskiy\n",
      "we have found palatka\n",
      "we have found siilinjarvi\n",
      "we have found ixtapa\n",
      "we have found puerto colombia\n",
      "Oopsie\n",
      "we have found doha\n",
      "we have found biltine\n",
      "Oopsie\n",
      "we have found laguna\n",
      "we have found carrigaline\n",
      "we have found chantada\n",
      "we have found celarevo\n",
      "we have found butterworth\n",
      "Oopsie\n",
      "we have found nome\n",
      "we have found chilliwack\n",
      "we have found floro\n",
      "we have found houma\n",
      "we have found pangai\n",
      "we have found pedernales\n",
      "we have found necochea\n",
      "we have found port hedland\n",
      "we have found yaan\n",
      "we have found kashi\n",
      "we have found chipinge\n",
      "we have found vila franca do campo\n",
      "we have found los llanos de aridane\n",
      "we have found sorland\n",
      "we have found trelew\n",
      "we have found praia da vitoria\n",
      "we have found kirensk\n",
      "we have found antalaha\n",
      "we have found almeirim\n",
      "we have found ngunguru\n",
      "we have found suzun\n",
      "we have found taganak\n",
      "we have found pamplona\n",
      "we have found port dover\n",
      "we have found sorong\n"
     ]
    },
    {
     "name": "stdout",
     "output_type": "stream",
     "text": [
      "we have found sinegorskiy\n",
      "we have found varhaug\n",
      "we have found egvekinot\n",
      "we have found ossora\n",
      "Oopsie\n",
      "we have found vanavara\n",
      "we have found maragogi\n",
      "we have found banda aceh\n",
      "we have found pyshma\n",
      "we have found sakakah\n",
      "we have found fortuna\n",
      "we have found wilmington\n",
      "we have found cherskiy\n",
      "we have found rancho veloz\n",
      "we have found padang\n",
      "we have found conceicao do araguaia\n",
      "we have found namatanai\n",
      "we have found sukumo\n",
      "we have found fallon\n",
      "we have found coihaique\n",
      "we have found katherine\n",
      "we have found bambous virieux\n",
      "we have found rawson\n",
      "we have found pelym\n",
      "we have found okato\n",
      "Oopsie\n",
      "we have found atlantic city\n",
      "we have found ovalle\n",
      "we have found celica\n",
      "we have found pondicherry\n",
      "we have found verkhoyansk\n",
      "Oopsie\n",
      "we have found marawi\n",
      "we have found santa cruz\n",
      "we have found dungarpur\n",
      "we have found novobirilyussy\n",
      "we have found antofagasta\n",
      "we have found pyay\n",
      "we have found priargunsk\n",
      "we have found dakar\n",
      "we have found san\n",
      "we have found zeya\n",
      "we have found san vicente\n",
      "we have found cuyo\n",
      "we have found yinchuan\n",
      "we have found touho\n",
      "we have found sens\n",
      "we have found thinadhoo\n",
      "we have found teya\n",
      "we have found aripuana\n",
      "we have found yuanping\n",
      "we have found pilar\n",
      "we have found buzdyak\n",
      "Oopsie\n",
      "we have found hidalgotitlan\n",
      "we have found tual\n",
      "we have found sola\n",
      "we have found saint-pierre\n",
      "we have found manggar\n",
      "Oopsie\n",
      "we have found sibi\n",
      "we have found goderich\n",
      "we have found san patricio\n",
      "we have found poum\n",
      "we have found nemuro\n",
      "we have found clovis\n",
      "we have found awbari\n",
      "we have found diego de almagro\n",
      "we have found harper\n",
      "we have found holoby\n",
      "we have found staraya toropa\n",
      "we have found rosetta\n",
      "we have found urubicha\n",
      "we have found salinopolis\n",
      "we have found ahipara\n",
      "we have found danshui\n",
      "we have found puerto escondido\n",
      "we have found kibaya\n",
      "we have found jumla\n",
      "we have found kaoma\n",
      "we have found zhangye\n",
      "we have found matagami\n",
      "we have found loni\n",
      "we have found bria\n",
      "we have found cap malheureux\n",
      "we have found shevchenkove\n",
      "Oopsie\n",
      "we have found inuvik\n",
      "we have found the pas\n",
      "we have found namibe\n",
      "we have found mehamn\n",
      "Oopsie\n",
      "we have found saint anthony\n",
      "we have found itacarambi\n",
      "we have found bukachacha\n",
      "we have found kupino\n",
      "we have found lagoa\n",
      "we have found kabala\n",
      "we have found gladstone\n",
      "we have found moche\n",
      "we have found belyy yar\n",
      "we have found vagur\n",
      "we have found rio grande\n",
      "we have found klaksvik\n",
      "we have found vila velha\n",
      "we have found lata\n",
      "we have found turbat\n",
      "Oopsie\n",
      "we have found corrente\n",
      "we have found nador\n",
      "we have found saint-francois\n",
      "we have found caarapo\n",
      "we have found olonets\n",
      "we have found mackenzie\n",
      "we have found recco\n",
      "we have found panaba\n",
      "Oopsie\n",
      "we have found santiago\n",
      "we have found kranuan\n",
      "we have found gunnaur\n",
      "we have found pathein\n",
      "we have found cairo\n",
      "Oopsie\n",
      "we have found wuwei\n",
      "we have found high level\n",
      "we have found carutapera\n",
      "we have found quixeramobim\n",
      "we have found constitucion\n",
      "we have found avanigadda\n",
      "we have found clyde river\n",
      "Oopsie\n",
      "we have found sidi ali\n",
      "we have found orebro\n",
      "we have found gorey\n",
      "we have found snezhnogorsk\n",
      "we have found lensk\n",
      "we have found lucapa\n",
      "we have found lotofaga\n",
      "we have found halifax\n",
      "we have found andenes\n",
      "we have found santa isabel do rio negro\n",
      "we have found olafsvik\n",
      "Oopsie\n",
      "we have found lilongwe\n",
      "we have found kota bahru\n",
      "we have found lewistown\n",
      "we have found igarka\n",
      "we have found buta\n",
      "we have found mount vernon\n",
      "we have found plettenberg bay\n",
      "we have found leh\n",
      "we have found manta\n",
      "we have found piracaia\n",
      "we have found kavieng\n",
      "we have found husavik\n",
      "we have found linhares\n",
      "we have found auki\n",
      "we have found kaeo\n",
      "we have found srednekolymsk\n",
      "we have found sattenapalle\n",
      "we have found pacific grove\n",
      "we have found hamilton\n",
      "Oopsie\n",
      "we have found lerwick\n",
      "we have found tyumentsevo\n",
      "we have found korla\n",
      "we have found moyale\n",
      "we have found elizabeth city\n",
      "we have found aksaray\n",
      "we have found axim\n",
      "we have found honningsvag\n",
      "we have found kangaatsiaq\n",
      "we have found kavaratti\n",
      "we have found salym\n",
      "we have found half moon bay\n",
      "we have found west plains\n",
      "we have found sindor\n",
      "we have found woodward\n",
      "we have found huarmey\n",
      "we have found pinega\n",
      "we have found snasa\n",
      "we have found tezu\n",
      "we have found mogadishu\n",
      "we have found tairua\n",
      "we have found hofn\n",
      "we have found praya\n",
      "we have found vicosa\n",
      "we have found jega\n",
      "we have found velsk\n",
      "we have found xique-xique\n",
      "we have found zyryanka\n",
      "we have found naze\n",
      "we have found simbahan\n",
      "we have found yeppoon\n",
      "we have found caceres\n",
      "we have found black diamond\n",
      "we have found gap\n",
      "we have found waitati\n",
      "we have found cabedelo\n",
      "we have found khomutovka\n",
      "we have found natal\n",
      "we have found longyearbyen\n",
      "we have found mocuba\n",
      "we have found umm kaddadah\n",
      "we have found roberval\n",
      "we have found tamandare\n",
      "Oopsie\n",
      "we have found marica\n",
      "we have found kuryk\n",
      "we have found cesis\n",
      "we have found channel-port aux basques\n",
      "we have found palmer\n",
      "we have found robertsport\n",
      "we have found alofi\n",
      "we have found tullahoma\n",
      "we have found sampit\n",
      "we have found dargaville\n",
      "we have found kaitangata\n",
      "we have found la ronge\n",
      "we have found nampula\n",
      "we have found takefu\n",
      "we have found cam ranh\n",
      "we have found diamantino\n",
      "we have found panguipulli\n",
      "Oopsie\n",
      "we have found floresta\n",
      "we have found mount isa\n",
      "we have found kudahuvadhoo\n",
      "we have found vostok\n",
      "we have found nyaunglebin\n",
      "we have found hit\n",
      "we have found andreyevo\n",
      "Oopsie\n",
      "we have found beloha\n",
      "we have found lac du bonnet\n",
      "we have found kenai\n",
      "we have found bang saphan\n",
      "we have found udachnyy\n",
      "we have found tete\n",
      "we have found yumen\n",
      "Oopsie\n",
      "we have found davila\n",
      "we have found moron\n",
      "we have found port lincoln\n",
      "we have found karratha\n",
      "we have found cambridge\n",
      "Oopsie\n",
      "Oopsie\n",
      "we have found nizhneangarsk\n",
      "we have found bogashevo\n",
      "we have found ashta\n",
      "we have found raisen\n",
      "we have found huntsville\n",
      "we have found yokadouma\n",
      "we have found strezhevoy\n",
      "we have found nuevitas\n",
      "we have found mae chan\n",
      "we have found presidente medici\n",
      "we have found cristalina\n",
      "we have found sistranda\n",
      "we have found ginir\n",
      "we have found phalaborwa\n",
      "Oopsie\n",
      "we have found bay saint louis\n",
      "we have found dabat\n",
      "we have found aksu\n",
      "we have found saint-prosper\n",
      "we have found grand-santi\n",
      "we have found acapulco\n",
      "we have found rocha\n",
      "we have found mortka\n"
     ]
    }
   ],
   "source": [
    "# Save config information.\n",
    "url = \"http://api.openweathermap.org/data/2.5/weather?\"\n",
    "units = \"metric\"\n",
    "\n",
    "# Build partial query URL\n",
    "query_url = f\"{url}appid={weather_api_key}&units={units}&q=\"\n",
    "\n",
    "\n",
    "# set up lists to hold reponse info\n",
    "temp = []\n",
    "lat = []\n",
    "lng = []\n",
    "max_temp = []\n",
    "humidity = []\n",
    "cloudiness = []\n",
    "wind_speed = []\n",
    "country = []\n",
    "date = []\n",
    "cityies = []\n",
    "\n",
    "# Loop through the list of cities and perform a request for data on each\n",
    "for city in cities:\n",
    "    response = requests.get(query_url + city).json()\n",
    "    \n",
    "    try:\n",
    "        temp.append(response['main']['temp'])\n",
    "        lat.append(response['coord']['lat'])\n",
    "        lng.append(response['coord']['lon'])\n",
    "        max_temp.append(response['main']['temp_max'])\n",
    "        humidity.append(response['main']['humidity'])\n",
    "        cloudiness.append(response['clouds']['all'])\n",
    "        country.append(response['sys']['country'])\n",
    "        date.append(response['dt'])\n",
    "        wind_speed.append(response['wind']['speed'])\n",
    "        cityies.append(city)\n",
    "        print(f\"we have found {city}\")\n",
    "        \n",
    "        \n",
    "    except:\n",
    "        print(\"Oopsie\")\n",
    "\n",
    "#response = requests.get(query_url + \"cleveland\").json()\n",
    "#print(json.dumps(response, indent=4, sort_keys=True))\n"
   ]
  },
  {
   "cell_type": "markdown",
   "metadata": {},
   "source": [
    "### Convert Raw Data to DataFrame\n",
    "* Export the city data into a .csv.\n",
    "* Display the DataFrame"
   ]
  },
  {
   "cell_type": "code",
   "execution_count": 102,
   "metadata": {},
   "outputs": [],
   "source": [
    "weather_df = pd.DataFrame({\"City\":cityies, \"Lat\":lat, \"Lng\":lng, \"Max Temp\":max_temp, \"Humidity\":humidity, \n",
    "                          \"Cloudiness\":cloudiness, \"Wind Speed\":wind_speed, \"Country\":country, \"Date\":date})\n",
    "\n",
    "weather_df.to_csv('Weather.csv')\n"
   ]
  },
  {
   "cell_type": "code",
   "execution_count": 103,
   "metadata": {},
   "outputs": [
    {
     "data": {
      "text/plain": [
       "599"
      ]
     },
     "execution_count": 103,
     "metadata": {},
     "output_type": "execute_result"
    }
   ],
   "source": [
    "weather_df.head()\n",
    "len(weather_df)"
   ]
  },
  {
   "cell_type": "markdown",
   "metadata": {},
   "source": [
    "## Inspect the data and remove the cities where the humidity > 100%.\n",
    "----\n",
    "Skip this step if there are no cities that have humidity > 100%. "
   ]
  },
  {
   "cell_type": "code",
   "execution_count": 109,
   "metadata": {},
   "outputs": [
    {
     "data": {
      "text/html": [
       "<div>\n",
       "<style scoped>\n",
       "    .dataframe tbody tr th:only-of-type {\n",
       "        vertical-align: middle;\n",
       "    }\n",
       "\n",
       "    .dataframe tbody tr th {\n",
       "        vertical-align: top;\n",
       "    }\n",
       "\n",
       "    .dataframe thead th {\n",
       "        text-align: right;\n",
       "    }\n",
       "</style>\n",
       "<table border=\"1\" class=\"dataframe\">\n",
       "  <thead>\n",
       "    <tr style=\"text-align: right;\">\n",
       "      <th></th>\n",
       "      <th>City</th>\n",
       "      <th>Lat</th>\n",
       "      <th>Lng</th>\n",
       "      <th>Max Temp</th>\n",
       "      <th>Humidity</th>\n",
       "      <th>Cloudiness</th>\n",
       "      <th>Wind Speed</th>\n",
       "      <th>Country</th>\n",
       "      <th>Date</th>\n",
       "    </tr>\n",
       "  </thead>\n",
       "  <tbody>\n",
       "    <tr>\n",
       "      <th>0</th>\n",
       "      <td>teahupoo</td>\n",
       "      <td>-17.83</td>\n",
       "      <td>-149.27</td>\n",
       "      <td>28.00</td>\n",
       "      <td>58</td>\n",
       "      <td>40</td>\n",
       "      <td>2.60</td>\n",
       "      <td>PF</td>\n",
       "      <td>1592870420</td>\n",
       "    </tr>\n",
       "    <tr>\n",
       "      <th>1</th>\n",
       "      <td>saint-jean-port-joli</td>\n",
       "      <td>47.22</td>\n",
       "      <td>-70.27</td>\n",
       "      <td>23.34</td>\n",
       "      <td>73</td>\n",
       "      <td>52</td>\n",
       "      <td>4.92</td>\n",
       "      <td>CA</td>\n",
       "      <td>1592870420</td>\n",
       "    </tr>\n",
       "    <tr>\n",
       "      <th>2</th>\n",
       "      <td>busselton</td>\n",
       "      <td>-33.65</td>\n",
       "      <td>115.33</td>\n",
       "      <td>14.44</td>\n",
       "      <td>73</td>\n",
       "      <td>51</td>\n",
       "      <td>8.89</td>\n",
       "      <td>AU</td>\n",
       "      <td>1592870420</td>\n",
       "    </tr>\n",
       "    <tr>\n",
       "      <th>3</th>\n",
       "      <td>archidona</td>\n",
       "      <td>37.10</td>\n",
       "      <td>-4.39</td>\n",
       "      <td>22.78</td>\n",
       "      <td>48</td>\n",
       "      <td>0</td>\n",
       "      <td>2.05</td>\n",
       "      <td>ES</td>\n",
       "      <td>1592870421</td>\n",
       "    </tr>\n",
       "    <tr>\n",
       "      <th>4</th>\n",
       "      <td>harwich</td>\n",
       "      <td>51.94</td>\n",
       "      <td>1.28</td>\n",
       "      <td>16.67</td>\n",
       "      <td>76</td>\n",
       "      <td>0</td>\n",
       "      <td>3.80</td>\n",
       "      <td>GB</td>\n",
       "      <td>1592870421</td>\n",
       "    </tr>\n",
       "  </tbody>\n",
       "</table>\n",
       "</div>"
      ],
      "text/plain": [
       "                   City    Lat     Lng  Max Temp  Humidity  Cloudiness  \\\n",
       "0              teahupoo -17.83 -149.27     28.00        58          40   \n",
       "1  saint-jean-port-joli  47.22  -70.27     23.34        73          52   \n",
       "2             busselton -33.65  115.33     14.44        73          51   \n",
       "3             archidona  37.10   -4.39     22.78        48           0   \n",
       "4               harwich  51.94    1.28     16.67        76           0   \n",
       "\n",
       "   Wind Speed Country        Date  \n",
       "0        2.60      PF  1592870420  \n",
       "1        4.92      CA  1592870420  \n",
       "2        8.89      AU  1592870420  \n",
       "3        2.05      ES  1592870421  \n",
       "4        3.80      GB  1592870421  "
      ]
     },
     "execution_count": 109,
     "metadata": {},
     "output_type": "execute_result"
    }
   ],
   "source": [
    "weather_df.drop(weather_df.loc[weather_df['Humidity']>100].index, inplace=False)\n",
    "weather_df.head()"
   ]
  },
  {
   "cell_type": "code",
   "execution_count": 7,
   "metadata": {},
   "outputs": [
    {
     "data": {
      "text/plain": [
       "Int64Index([], dtype='int64')"
      ]
     },
     "execution_count": 7,
     "metadata": {},
     "output_type": "execute_result"
    }
   ],
   "source": [
    "#  Get the indices of cities that have humidity over 100%.\n"
   ]
  },
  {
   "cell_type": "code",
   "execution_count": 8,
   "metadata": {},
   "outputs": [
    {
     "data": {
      "text/html": [
       "<div>\n",
       "<style scoped>\n",
       "    .dataframe tbody tr th:only-of-type {\n",
       "        vertical-align: middle;\n",
       "    }\n",
       "\n",
       "    .dataframe tbody tr th {\n",
       "        vertical-align: top;\n",
       "    }\n",
       "\n",
       "    .dataframe thead th {\n",
       "        text-align: right;\n",
       "    }\n",
       "</style>\n",
       "<table border=\"1\" class=\"dataframe\">\n",
       "  <thead>\n",
       "    <tr style=\"text-align: right;\">\n",
       "      <th></th>\n",
       "      <th>City</th>\n",
       "      <th>Lat</th>\n",
       "      <th>Lng</th>\n",
       "      <th>Max Temp</th>\n",
       "      <th>Humidity</th>\n",
       "      <th>Cloudiness</th>\n",
       "      <th>Wind Speed</th>\n",
       "      <th>Country</th>\n",
       "      <th>Date</th>\n",
       "    </tr>\n",
       "  </thead>\n",
       "  <tbody>\n",
       "    <tr>\n",
       "      <th>0</th>\n",
       "      <td>pimentel</td>\n",
       "      <td>-6.84</td>\n",
       "      <td>-79.93</td>\n",
       "      <td>66.20</td>\n",
       "      <td>29</td>\n",
       "      <td>75</td>\n",
       "      <td>5.82</td>\n",
       "      <td>PE</td>\n",
       "      <td>1585764415</td>\n",
       "    </tr>\n",
       "    <tr>\n",
       "      <th>1</th>\n",
       "      <td>victoria</td>\n",
       "      <td>22.29</td>\n",
       "      <td>114.16</td>\n",
       "      <td>69.01</td>\n",
       "      <td>88</td>\n",
       "      <td>40</td>\n",
       "      <td>18.34</td>\n",
       "      <td>HK</td>\n",
       "      <td>1585764288</td>\n",
       "    </tr>\n",
       "    <tr>\n",
       "      <th>2</th>\n",
       "      <td>padang</td>\n",
       "      <td>-0.95</td>\n",
       "      <td>100.35</td>\n",
       "      <td>79.90</td>\n",
       "      <td>75</td>\n",
       "      <td>99</td>\n",
       "      <td>1.63</td>\n",
       "      <td>ID</td>\n",
       "      <td>1585764115</td>\n",
       "    </tr>\n",
       "    <tr>\n",
       "      <th>3</th>\n",
       "      <td>hasaki</td>\n",
       "      <td>35.73</td>\n",
       "      <td>140.83</td>\n",
       "      <td>55.00</td>\n",
       "      <td>100</td>\n",
       "      <td>75</td>\n",
       "      <td>4.70</td>\n",
       "      <td>JP</td>\n",
       "      <td>1585764415</td>\n",
       "    </tr>\n",
       "    <tr>\n",
       "      <th>4</th>\n",
       "      <td>kahului</td>\n",
       "      <td>20.89</td>\n",
       "      <td>-156.47</td>\n",
       "      <td>70.00</td>\n",
       "      <td>88</td>\n",
       "      <td>1</td>\n",
       "      <td>7.63</td>\n",
       "      <td>US</td>\n",
       "      <td>1585764415</td>\n",
       "    </tr>\n",
       "  </tbody>\n",
       "</table>\n",
       "</div>"
      ],
      "text/plain": [
       "       City    Lat     Lng  Max Temp  Humidity  Cloudiness  Wind Speed  \\\n",
       "0  pimentel  -6.84  -79.93     66.20        29          75        5.82   \n",
       "1  victoria  22.29  114.16     69.01        88          40       18.34   \n",
       "2    padang  -0.95  100.35     79.90        75          99        1.63   \n",
       "3    hasaki  35.73  140.83     55.00       100          75        4.70   \n",
       "4   kahului  20.89 -156.47     70.00        88           1        7.63   \n",
       "\n",
       "  Country        Date  \n",
       "0      PE  1585764415  \n",
       "1      HK  1585764288  \n",
       "2      ID  1585764115  \n",
       "3      JP  1585764415  \n",
       "4      US  1585764415  "
      ]
     },
     "execution_count": 8,
     "metadata": {},
     "output_type": "execute_result"
    }
   ],
   "source": [
    "# Make a new DataFrame equal to the city data to drop all humidity outliers by index.\n",
    "# Passing \"inplace=False\" will make a copy of the city_data DataFrame, which we call \"clean_city_data\".\n"
   ]
  },
  {
   "cell_type": "code",
   "execution_count": 9,
   "metadata": {},
   "outputs": [],
   "source": [
    "# Extract relevant fields from the data frame\n",
    "\n",
    "\n",
    "# Export the City_Data into a csv\n"
   ]
  },
  {
   "cell_type": "markdown",
   "metadata": {},
   "source": [
    "## Plotting the Data\n",
    "* Use proper labeling of the plots using plot titles (including date of analysis) and axes labels.\n",
    "* Save the plotted figures as .pngs."
   ]
  },
  {
   "cell_type": "markdown",
   "metadata": {},
   "source": [
    "## Latitude vs. Temperature Plot"
   ]
  },
  {
   "cell_type": "code",
   "execution_count": 117,
   "metadata": {
    "scrolled": true
   },
   "outputs": [
    {
     "data": {
      "text/plain": [
       "Text(0.5, 1.0, 'Latitude vs. Maximum Temperature')"
      ]
     },
     "execution_count": 117,
     "metadata": {},
     "output_type": "execute_result"
    },
    {
     "data": {
      "image/png": "[encoded data removed]",
      "text/plain": [
       "<Figure size 432x288 with 1 Axes>"
      ]
     },
     "metadata": {
      "needs_background": "light"
     },
     "output_type": "display_data"
    }
   ],
   "source": [
    "plt.scatter(weather_df[\"Lat\"], weather_df[\"Max Temp\"])\n",
    "plt.xlabel(\"Latitude\")\n",
    "plt.ylabel(\"Maximum Temperature\")\n",
    "plt.title(\"Latitude vs. Maximum Temperature\")"
   ]
  },
  {
   "cell_type": "markdown",
   "metadata": {},
   "source": [
    "## Latitude vs. Humidity Plot"
   ]
  },
  {
   "cell_type": "code",
   "execution_count": 116,
   "metadata": {},
   "outputs": [
    {
     "data": {
      "text/plain": [
       "Text(0.5, 1.0, 'Latitude vs. Maximum Temperature')"
      ]
     },
     "execution_count": 116,
     "metadata": {},
     "output_type": "execute_result"
    },
    {
     "data": {
      "image/png": "[encoded data removed]",
      "text/plain": [
       "<Figure size 432x288 with 1 Axes>"
      ]
     },
     "metadata": {
      "needs_background": "light"
     },
     "output_type": "display_data"
    }
   ],
   "source": [
    "plt.scatter(weather_df[\"Lat\"], weather_df[\"Humidity\"])\n",
    "plt.xlabel(\"Latitude\")\n",
    "plt.ylabel(\"Humidity (%)\")\n",
    "plt.title(\"Latitude vs. Humidity\")"
   ]
  },
  {
   "cell_type": "markdown",
   "metadata": {},
   "source": [
    "## Latitude vs. Cloudiness Plot"
   ]
  },
  {
   "cell_type": "code",
   "execution_count": 119,
   "metadata": {},
   "outputs": [
    {
     "data": {
      "text/plain": [
       "Text(0.5, 1.0, 'Latitude vs. Cloudiness')"
      ]
     },
     "execution_count": 119,
     "metadata": {},
     "output_type": "execute_result"
    },
    {
     "data": {
      "image/png": "[encoded data removed]",
      "text/plain": [
       "<Figure size 432x288 with 1 Axes>"
      ]
     },
     "metadata": {
      "needs_background": "light"
     },
     "output_type": "display_data"
    }
   ],
   "source": [
    "plt.scatter(weather_df[\"Lat\"], weather_df[\"Cloudiness\"])\n",
    "plt.xlabel(\"Latitude\")\n",
    "plt.ylabel(\"Cloudiness (%)\")\n",
    "plt.title(\"Latitude vs. Cloudiness\")"
   ]
  },
  {
   "cell_type": "markdown",
   "metadata": {},
   "source": [
    "## Latitude vs. Wind Speed Plot"
   ]
  },
  {
   "cell_type": "code",
   "execution_count": 120,
   "metadata": {},
   "outputs": [
    {
     "data": {
      "text/plain": [
       "Text(0.5, 1.0, 'Latitude vs. Wind Speed')"
      ]
     },
     "execution_count": 120,
     "metadata": {},
     "output_type": "execute_result"
    },
    {
     "data": {
      "image/png": "[encoded data removed]",
      "text/plain": [
       "<Figure size 432x288 with 1 Axes>"
      ]
     },
     "metadata": {
      "needs_background": "light"
     },
     "output_type": "display_data"
    }
   ],
   "source": [
    "plt.scatter(weather_df[\"Lat\"], weather_df[\"Wind Speed\"])\n",
    "plt.xlabel(\"Latitude\")\n",
    "plt.ylabel(\"Wind Speed (mph)\")\n",
    "plt.title(\"Latitude vs. Wind Speed\")"
   ]
  },
  {
   "cell_type": "markdown",
   "metadata": {},
   "source": [
    "## Linear Regression"
   ]
  },
  {
   "cell_type": "code",
   "execution_count": 14,
   "metadata": {},
   "outputs": [],
   "source": [
    "# OPTIONAL: Create a function to create Linear Regression plots"
   ]
  },
  {
   "cell_type": "code",
   "execution_count": 15,
   "metadata": {},
   "outputs": [],
   "source": [
    "# Create Northern and Southern Hemisphere DataFrames"
   ]
  },
  {
   "cell_type": "markdown",
   "metadata": {},
   "source": [
    "####  Northern Hemisphere - Max Temp vs. Latitude Linear Regression"
   ]
  },
  {
   "cell_type": "code",
   "execution_count": 128,
   "metadata": {},
   "outputs": [
    {
     "name": "stdout",
     "output_type": "stream",
     "text": [
      "The correlation coefficient is: (0.7797043706910556, 2.4966250459166453e-42)\n",
      "The linear equation is: y = 0.39x + 26.31\n"
     ]
    },
    {
     "data": {
      "image/png": "[encoded data removed]",
      "text/plain": [
       "<Figure size 432x288 with 1 Axes>"
      ]
     },
     "metadata": {
      "needs_background": "light"
     },
     "output_type": "display_data"
    }
   ],
   "source": [
    "NH_df = weather_df.copy()\n",
    "NH_df.drop(NH_df.loc[NH_df['Lat']>0].index, inplace=True)\n",
    "temp = NH_df[\"Max Temp\"]\n",
    "lat = NH_df['Lat']\n",
    "correlation = pearsonr(temp,lat)\n",
    "\n",
    "x_values = NH_df['Lat']\n",
    "y_values =  NH_df[\"Max Temp\"]\n",
    "(slope, intercept, rvalue, pvalue, stderr) = linregress(x_values, y_values)\n",
    "regress_values = x_values * slope + intercept\n",
    "line_eq = \"y = \" + str(round(slope,2)) + \"x + \" + str(round(intercept,2))\n",
    "plt.scatter(x_values,y_values)\n",
    "plt.plot(x_values,regress_values,\"r-\")\n",
    "plt.annotate(line_eq,(6,10),fontsize=15,color=\"red\")\n",
    "plt.xlabel('Weight in Grams')\n",
    "plt.ylabel('Tumor Volume (mm3)')\n",
    "print(f\"The correlation coefficient is: {correlation}\")\n",
    "print(\"The linear equation is: \" + line_eq)\n",
    "plt.show()"
   ]
  },
  {
   "cell_type": "markdown",
   "metadata": {},
   "source": [
    "####  Southern Hemisphere - Max Temp vs. Latitude Linear Regression"
   ]
  },
  {
   "cell_type": "code",
   "execution_count": 131,
   "metadata": {},
   "outputs": [
    {
     "name": "stdout",
     "output_type": "stream",
     "text": [
      "The correlation coefficient is: (-0.7108186946399153, 1.7222225046118894e-62)\n",
      "The linear equation is: y = -0.28x + 31.89\n"
     ]
    },
    {
     "data": {
      "image/png": "[encoded data removed]",
      "text/plain": [
       "<Figure size 432x288 with 1 Axes>"
      ]
     },
     "metadata": {
      "needs_background": "light"
     },
     "output_type": "display_data"
    }
   ],
   "source": [
    "SHtemp_df = weather_df.copy()\n",
    "SHtemp_df.drop(SHtemp_df.loc[SHtemp_df['Lat']<0].index, inplace=True)\n",
    "temp = SHtemp_df[\"Max Temp\"]\n",
    "lat = SHtemp_df['Lat']\n",
    "correlation = pearsonr(temp,lat)\n",
    "\n",
    "x_values = SHtemp_df['Lat']\n",
    "y_values =  SHtemp_df[\"Max Temp\"]\n",
    "(slope, intercept, rvalue, pvalue, stderr) = linregress(x_values, y_values)\n",
    "regress_values = x_values * slope + intercept\n",
    "line_eq = \"y = \" + str(round(slope,2)) + \"x + \" + str(round(intercept,2))\n",
    "plt.scatter(x_values,y_values)\n",
    "plt.plot(x_values,regress_values,\"r-\")\n",
    "plt.annotate(line_eq,(6,10),fontsize=15,color=\"red\")\n",
    "plt.xlabel('Weight in Grams')\n",
    "plt.ylabel('Tumor Volume (mm3)')\n",
    "print(f\"The correlation coefficient is: {correlation}\")\n",
    "print(\"The linear equation is: \" + line_eq)\n",
    "plt.show()"
   ]
  },
  {
   "cell_type": "markdown",
   "metadata": {},
   "source": [
    "####  Northern Hemisphere - Humidity (%) vs. Latitude Linear Regression"
   ]
  },
  {
   "cell_type": "code",
   "execution_count": 141,
   "metadata": {},
   "outputs": [
    {
     "name": "stdout",
     "output_type": "stream",
     "text": [
      "The correlation coefficient is: (-0.039837159064265236, 0.5744637474429332)\n",
      "The linear equation is: y = -0.03x + 20.94\n"
     ]
    },
    {
     "data": {
      "image/png": "[encoded data removed]",
      "text/plain": [
       "<Figure size 432x288 with 1 Axes>"
      ]
     },
     "metadata": {
      "needs_background": "light"
     },
     "output_type": "display_data"
    }
   ],
   "source": [
    "NHhumidity_df = weather_df.copy()\n",
    "NHhumidity_df.drop(NHhumidity_df.loc[NHhumidity_df['Lat']>0].index, inplace=True)\n",
    "humidity = NHhumidity_df[\"Humidity\"]\n",
    "lat = NHhumidity_df['Lat']\n",
    "correlation = pearsonr(humidity,lat)\n",
    "\n",
    "x_values = NHhumidity_df['Humidity']\n",
    "y_values =  NHhumidity_df[\"Max Temp\"]\n",
    "(slope, intercept, rvalue, pvalue, stderr) = linregress(x_values, y_values)\n",
    "regress_values = x_values * slope + intercept\n",
    "line_eq = \"y = \" + str(round(slope,2)) + \"x + \" + str(round(intercept,2))\n",
    "plt.scatter(x_values,y_values)\n",
    "plt.plot(x_values,regress_values,\"r-\")\n",
    "plt.annotate(line_eq,(6,10),fontsize=15,color=\"red\")\n",
    "plt.xlabel('Weight in Grams')\n",
    "plt.ylabel('Tumor Volume (mm3)')\n",
    "print(f\"The correlation coefficient is: {correlation}\")\n",
    "print(\"The linear equation is: \" + line_eq)\n",
    "plt.show()"
   ]
  },
  {
   "cell_type": "markdown",
   "metadata": {},
   "source": [
    "####  Southern Hemisphere - Humidity (%) vs. Latitude Linear Regression"
   ]
  },
  {
   "cell_type": "code",
   "execution_count": 145,
   "metadata": {},
   "outputs": [
    {
     "name": "stdout",
     "output_type": "stream",
     "text": [
      "The correlation coefficient is: (-0.08698476793347035, 0.08306563833891531)\n",
      "The linear equation is: y = -0.13x + 30.12\n"
     ]
    },
    {
     "data": {
      "image/png": "[encoded data removed]",
      "text/plain": [
       "<Figure size 432x288 with 1 Axes>"
      ]
     },
     "metadata": {
      "needs_background": "light"
     },
     "output_type": "display_data"
    }
   ],
   "source": [
    "SHhumidity_df = weather_df.copy()\n",
    "SHhumidity_df.drop(SHhumidity_df.loc[SHhumidity_df['Lat']<0].index, inplace=True)\n",
    "humidity = SHhumidity_df[\"Humidity\"]\n",
    "lat = SHhumidity_df['Lat']\n",
    "correlation = pearsonr(humidity,lat)\n",
    "\n",
    "x_values = SHhumidity_df['Humidity']\n",
    "y_values =  SHhumidity_df[\"Max Temp\"]\n",
    "(slope, intercept, rvalue, pvalue, stderr) = linregress(x_values, y_values)\n",
    "regress_values = x_values * slope + intercept\n",
    "line_eq = \"y = \" + str(round(slope,2)) + \"x + \" + str(round(intercept,2))\n",
    "plt.scatter(x_values,y_values)\n",
    "plt.plot(x_values,regress_values,\"r-\")\n",
    "plt.annotate(line_eq,(6,10),fontsize=15,color=\"red\")\n",
    "plt.xlabel('Weight in Grams')\n",
    "plt.ylabel('Tumor Volume (mm3)')\n",
    "print(f\"The correlation coefficient is: {correlation}\")\n",
    "print(\"The linear equation is: \" + line_eq)\n",
    "plt.show()"
   ]
  },
  {
   "cell_type": "markdown",
   "metadata": {},
   "source": [
    "####  Northern Hemisphere - Cloudiness (%) vs. Latitude Linear Regression"
   ]
  },
  {
   "cell_type": "code",
   "execution_count": 148,
   "metadata": {},
   "outputs": [
    {
     "name": "stdout",
     "output_type": "stream",
     "text": [
      "The correlation coefficient is: (-0.0030036406742316897, 0.9662448259341402)\n",
      "The linear equation is: y = 0.03x + 17.21\n"
     ]
    },
    {
     "data": {
      "image/png": "[encoded data removed]",
      "text/plain": [
       "<Figure size 432x288 with 1 Axes>"
      ]
     },
     "metadata": {
      "needs_background": "light"
     },
     "output_type": "display_data"
    }
   ],
   "source": [
    "NHCloud_df = weather_df.copy()\n",
    "NHCloud_df.drop(NHCloud_df.loc[NHCloud_df['Lat']>0].index, inplace=True)\n",
    "cloud = NHCloud_df[\"Cloudiness\"]\n",
    "lat = NHCloud_df['Lat']\n",
    "correlation = pearsonr(cloud,lat)\n",
    "\n",
    "x_values = NHCloud_df['Cloudiness']\n",
    "y_values =  NHCloud_df[\"Max Temp\"]\n",
    "(slope, intercept, rvalue, pvalue, stderr) = linregress(x_values, y_values)\n",
    "regress_values = x_values * slope + intercept\n",
    "line_eq = \"y = \" + str(round(slope,2)) + \"x + \" + str(round(intercept,2))\n",
    "plt.scatter(x_values,y_values)\n",
    "plt.plot(x_values,regress_values,\"r-\")\n",
    "plt.annotate(line_eq,(6,10),fontsize=15,color=\"red\")\n",
    "plt.xlabel('Weight in Grams')\n",
    "plt.ylabel('Tumor Volume (mm3)')\n",
    "print(f\"The correlation coefficient is: {correlation}\")\n",
    "print(\"The linear equation is: \" + line_eq)\n",
    "plt.show()"
   ]
  },
  {
   "cell_type": "markdown",
   "metadata": {},
   "source": [
    "####  Southern Hemisphere - Cloudiness (%) vs. Latitude Linear Regression"
   ]
  },
  {
   "cell_type": "code",
   "execution_count": 149,
   "metadata": {},
   "outputs": [
    {
     "name": "stdout",
     "output_type": "stream",
     "text": [
      "The correlation coefficient is: (-0.039837159064265236, 0.5744637474429332)\n",
      "The linear equation is: y = 0.03x + 17.21\n"
     ]
    },
    {
     "data": {
      "image/png": "[encoded data removed]",
      "text/plain": [
       "<Figure size 432x288 with 1 Axes>"
      ]
     },
     "metadata": {
      "needs_background": "light"
     },
     "output_type": "display_data"
    }
   ],
   "source": [
    "SHCloud_df = weather_df.copy()\n",
    "SHCloud_df.drop(SHCloud_df.loc[SHCloud_df['Lat']>0].index, inplace=True)\n",
    "cloud = SHCloud_df[\"Cloudiness\"]\n",
    "lat = SHCloud_df['Lat']\n",
    "correlation = pearsonr(humidity,lat)\n",
    "\n",
    "x_values = SHCloud_df['Cloudiness']\n",
    "y_values =  SHCloud_df[\"Max Temp\"]\n",
    "(slope, intercept, rvalue, pvalue, stderr) = linregress(x_values, y_values)\n",
    "regress_values = x_values * slope + intercept\n",
    "line_eq = \"y = \" + str(round(slope,2)) + \"x + \" + str(round(intercept,2))\n",
    "plt.scatter(x_values,y_values)\n",
    "plt.plot(x_values,regress_values,\"r-\")\n",
    "plt.annotate(line_eq,(6,10),fontsize=15,color=\"red\")\n",
    "plt.xlabel('Weight in Grams')\n",
    "plt.ylabel('Tumor Volume (mm3)')\n",
    "print(f\"The correlation coefficient is: {correlation}\")\n",
    "print(\"The linear equation is: \" + line_eq)\n",
    "plt.show()"
   ]
  },
  {
   "cell_type": "markdown",
   "metadata": {},
   "source": [
    "####  Northern Hemisphere - Wind Speed (mph) vs. Latitude Linear Regression"
   ]
  },
  {
   "cell_type": "code",
   "execution_count": 151,
   "metadata": {},
   "outputs": [
    {
     "name": "stdout",
     "output_type": "stream",
     "text": [
      "The correlation coefficient is: (-0.14661055744092133, 0.037816740643512606)\n",
      "The linear equation is: y = 0.21x + 17.74\n"
     ]
    },
    {
     "data": {
      "image/png": "[encoded data removed]",
      "text/plain": [
       "<Figure size 432x288 with 1 Axes>"
      ]
     },
     "metadata": {
      "needs_background": "light"
     },
     "output_type": "display_data"
    }
   ],
   "source": [
    "NHWind_df = weather_df.copy()\n",
    "NHWind_df.drop(NHWind_df.loc[NHWind_df['Lat']>0].index, inplace=True)\n",
    "wind = NHWind_df[\"Wind Speed\"]\n",
    "lat = NHWind_df['Lat']\n",
    "correlation = pearsonr(wind,lat)\n",
    "\n",
    "x_values = NHWind_df['Wind Speed']\n",
    "y_values =  NHWind_df[\"Max Temp\"]\n",
    "(slope, intercept, rvalue, pvalue, stderr) = linregress(x_values, y_values)\n",
    "regress_values = x_values * slope + intercept\n",
    "line_eq = \"y = \" + str(round(slope,2)) + \"x + \" + str(round(intercept,2))\n",
    "plt.scatter(x_values,y_values)\n",
    "plt.plot(x_values,regress_values,\"r-\")\n",
    "plt.annotate(line_eq,(6,10),fontsize=15,color=\"red\")\n",
    "plt.xlabel('Weight in Grams')\n",
    "plt.ylabel('Tumor Volume (mm3)')\n",
    "print(f\"The correlation coefficient is: {correlation}\")\n",
    "print(\"The linear equation is: \" + line_eq)\n",
    "plt.show()"
   ]
  },
  {
   "cell_type": "markdown",
   "metadata": {},
   "source": [
    "####  Southern Hemisphere - Wind Speed (mph) vs. Latitude Linear Regression"
   ]
  },
  {
   "cell_type": "code",
   "execution_count": 152,
   "metadata": {},
   "outputs": [
    {
     "name": "stdout",
     "output_type": "stream",
     "text": [
      "The correlation coefficient is: (-0.14661055744092133, 0.037816740643512606)\n",
      "The linear equation is: y = 0.21x + 17.74\n"
     ]
    },
    {
     "data": {
      "image/png": "[encoded data removed]",
      "text/plain": [
       "<Figure size 432x288 with 1 Axes>"
      ]
     },
     "metadata": {
      "needs_background": "light"
     },
     "output_type": "display_data"
    }
   ],
   "source": [
    "SHWind_df = weather_df.copy()\n",
    "SHWind_df.drop(SHWind_df.loc[SHWind_df['Lat']>0].index, inplace=True)\n",
    "wind = SHWind_df[\"Wind Speed\"]\n",
    "lat = SHWind_df['Lat']\n",
    "correlation = pearsonr(wind,lat)\n",
    "\n",
    "x_values = SHWind_df['Wind Speed']\n",
    "y_values =  SHWind_df[\"Max Temp\"]\n",
    "(slope, intercept, rvalue, pvalue, stderr) = linregress(x_values, y_values)\n",
    "regress_values = x_values * slope + intercept\n",
    "line_eq = \"y = \" + str(round(slope,2)) + \"x + \" + str(round(intercept,2))\n",
    "plt.scatter(x_values,y_values)\n",
    "plt.plot(x_values,regress_values,\"r-\")\n",
    "plt.annotate(line_eq,(6,10),fontsize=15,color=\"red\")\n",
    "plt.xlabel('Weight in Grams')\n",
    "plt.ylabel('Tumor Volume (mm3)')\n",
    "print(f\"The correlation coefficient is: {correlation}\")\n",
    "print(\"The linear equation is: \" + line_eq)\n",
    "plt.show()"
   ]
  },
  {
   "cell_type": "code",
   "execution_count": null,
   "metadata": {},
   "outputs": [],
   "source": []
  }
 ],
 "metadata": {
  "anaconda-cloud": {},
  "kernel_info": {
   "name": "python3"
  },
  "kernelspec": {
   "display_name": "Python [conda env:PythonData]",
   "language": "python",
   "name": "conda-env-PythonData-py"
  },
  "language_info": {
   "codemirror_mode": {
    "name": "ipython",
    "version": 3
   },
   "file_extension": ".py",
   "mimetype": "text/x-python",
   "name": "python",
   "nbconvert_exporter": "python",
   "pygments_lexer": "ipython3",
   "version": "3.6.10"
  },
  "latex_envs": {
   "LaTeX_envs_menu_present": true,
   "autoclose": false,
   "autocomplete": true,
   "bibliofile": "biblio.bib",
   "cite_by": "apalike",
   "current_citInitial": 1,
   "eqLabelWithNumbers": true,
   "eqNumInitial": 1,
   "hotkeys": {
    "equation": "Ctrl-E",
    "itemize": "Ctrl-I"
   },
   "labels_anchors": false,
   "latex_user_defs": false,
   "report_style_numbering": false,
   "user_envs_cfg": false
  },
  "nteract": {
   "version": "0.12.3"
  }
 },
 "nbformat": 4,
 "nbformat_minor": 2
}
